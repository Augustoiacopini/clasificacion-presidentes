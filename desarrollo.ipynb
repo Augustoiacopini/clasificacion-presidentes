{
 "cells": [
  {
   "cell_type": "markdown",
   "id": "5d27c77c",
   "metadata": {},
   "source": [
    "# distingir entre dos presidentes"
   ]
  },
  {
   "cell_type": "markdown",
   "id": "53cfbe8f",
   "metadata": {},
   "source": [
    "Limpieza y Analisis de los datos"
   ]
  },
  {
   "cell_type": "code",
   "execution_count": 24,
   "id": "702e6586",
   "metadata": {},
   "outputs": [],
   "source": [
    "import pandas as pd \n",
    "import numpy as np\n",
    "\n",
    "nestor = pd.read_parquet('df_nestor.parquet')\n",
    "cristina = pd.read_parquet('df_cristina.parquet')"
   ]
  },
  {
   "cell_type": "code",
   "execution_count": 25,
   "id": "e5319cf7",
   "metadata": {},
   "outputs": [
    {
     "data": {
      "text/html": [
       "<div>\n",
       "<style scoped>\n",
       "    .dataframe tbody tr th:only-of-type {\n",
       "        vertical-align: middle;\n",
       "    }\n",
       "\n",
       "    .dataframe tbody tr th {\n",
       "        vertical-align: top;\n",
       "    }\n",
       "\n",
       "    .dataframe thead th {\n",
       "        text-align: right;\n",
       "    }\n",
       "</style>\n",
       "<table border=\"1\" class=\"dataframe\">\n",
       "  <thead>\n",
       "    <tr style=\"text-align: right;\">\n",
       "      <th></th>\n",
       "      <th>frase</th>\n",
       "      <th>presidente</th>\n",
       "    </tr>\n",
       "  </thead>\n",
       "  <tbody>\n",
       "    <tr>\n",
       "      <th>0</th>\n",
       "      <td>Quiero agradecer, como santacruceño, la presen...</td>\n",
       "      <td>Nestor</td>\n",
       "    </tr>\n",
       "    <tr>\n",
       "      <th>1</th>\n",
       "      <td>Tambièn para el compañero y amigo mendocino, ...</td>\n",
       "      <td>Nestor</td>\n",
       "    </tr>\n",
       "    <tr>\n",
       "      <th>2</th>\n",
       "      <td></td>\n",
       "      <td>Nestor</td>\n",
       "    </tr>\n",
       "    <tr>\n",
       "      <th>3</th>\n",
       "      <td>Me siento profundamente emocionado de volver a...</td>\n",
       "      <td>Nestor</td>\n",
       "    </tr>\n",
       "    <tr>\n",
       "      <th>4</th>\n",
       "      <td>Y quiero decirles -y otra vez se van a dar cu...</td>\n",
       "      <td>Nestor</td>\n",
       "    </tr>\n",
       "    <tr>\n",
       "      <th>5</th>\n",
       "      <td></td>\n",
       "      <td>Nestor</td>\n",
       "    </tr>\n",
       "    <tr>\n",
       "      <th>6</th>\n",
       "      <td>Acá están aquellos cariños de vida; acá están ...</td>\n",
       "      <td>Nestor</td>\n",
       "    </tr>\n",
       "    <tr>\n",
       "      <th>7</th>\n",
       "      <td>Vengo como un argentino más, como un santacru...</td>\n",
       "      <td>Nestor</td>\n",
       "    </tr>\n",
       "    <tr>\n",
       "      <th>8</th>\n",
       "      <td></td>\n",
       "      <td>Nestor</td>\n",
       "    </tr>\n",
       "    <tr>\n",
       "      <th>9</th>\n",
       "      <td>Estos gobernadores que están presentes aquí vi...</td>\n",
       "      <td>Nestor</td>\n",
       "    </tr>\n",
       "  </tbody>\n",
       "</table>\n",
       "</div>"
      ],
      "text/plain": [
       "                                               frase presidente\n",
       "0  Quiero agradecer, como santacruceño, la presen...     Nestor\n",
       "1   Tambièn para el compañero y amigo mendocino, ...     Nestor\n",
       "2                                                        Nestor\n",
       "3  Me siento profundamente emocionado de volver a...     Nestor\n",
       "4   Y quiero decirles -y otra vez se van a dar cu...     Nestor\n",
       "5                                                        Nestor\n",
       "6  Acá están aquellos cariños de vida; acá están ...     Nestor\n",
       "7   Vengo como un argentino más, como un santacru...     Nestor\n",
       "8                                                        Nestor\n",
       "9  Estos gobernadores que están presentes aquí vi...     Nestor"
      ]
     },
     "execution_count": 25,
     "metadata": {},
     "output_type": "execute_result"
    }
   ],
   "source": [
    "nestor.head(10)"
   ]
  },
  {
   "cell_type": "code",
   "execution_count": 26,
   "id": "452900bb",
   "metadata": {},
   "outputs": [
    {
     "data": {
      "text/html": [
       "<div>\n",
       "<style scoped>\n",
       "    .dataframe tbody tr th:only-of-type {\n",
       "        vertical-align: middle;\n",
       "    }\n",
       "\n",
       "    .dataframe tbody tr th {\n",
       "        vertical-align: top;\n",
       "    }\n",
       "\n",
       "    .dataframe thead th {\n",
       "        text-align: right;\n",
       "    }\n",
       "</style>\n",
       "<table border=\"1\" class=\"dataframe\">\n",
       "  <thead>\n",
       "    <tr style=\"text-align: right;\">\n",
       "      <th></th>\n",
       "      <th>frase</th>\n",
       "      <th>presidente</th>\n",
       "    </tr>\n",
       "  </thead>\n",
       "  <tbody>\n",
       "    <tr>\n",
       "      <th>0</th>\n",
       "      <td></td>\n",
       "      <td>cristina</td>\n",
       "    </tr>\n",
       "    <tr>\n",
       "      <th>1</th>\n",
       "      <td>Algunas cosas de lo que dijo Javi, Aerolíneas ...</td>\n",
       "      <td>cristina</td>\n",
       "    </tr>\n",
       "    <tr>\n",
       "      <th>2</th>\n",
       "      <td>Este latiguillo que están todo el día del déf...</td>\n",
       "      <td>cristina</td>\n",
       "    </tr>\n",
       "    <tr>\n",
       "      <th>3</th>\n",
       "      <td>Pero, en el balance de Aerolíneas, en el bala...</td>\n",
       "      <td>cristina</td>\n",
       "    </tr>\n",
       "    <tr>\n",
       "      <th>4</th>\n",
       "      <td>Entonces, me parece que en ese balance de AA ...</td>\n",
       "      <td>cristina</td>\n",
       "    </tr>\n",
       "  </tbody>\n",
       "</table>\n",
       "</div>"
      ],
      "text/plain": [
       "                                               frase presidente\n",
       "0                                                      cristina\n",
       "1  Algunas cosas de lo que dijo Javi, Aerolíneas ...   cristina\n",
       "2   Este latiguillo que están todo el día del déf...   cristina\n",
       "3   Pero, en el balance de Aerolíneas, en el bala...   cristina\n",
       "4   Entonces, me parece que en ese balance de AA ...   cristina"
      ]
     },
     "execution_count": 26,
     "metadata": {},
     "output_type": "execute_result"
    }
   ],
   "source": [
    "cristina.head()"
   ]
  },
  {
   "cell_type": "markdown",
   "id": "a1bbdd0d",
   "metadata": {},
   "source": [
    "Uniendo Dataframe"
   ]
  },
  {
   "cell_type": "code",
   "execution_count": 27,
   "id": "1777d3b0",
   "metadata": {},
   "outputs": [],
   "source": [
    "data = pd.concat([nestor, cristina])"
   ]
  },
  {
   "cell_type": "code",
   "execution_count": 28,
   "id": "a2221c98",
   "metadata": {
    "scrolled": true
   },
   "outputs": [
    {
     "data": {
      "text/html": [
       "<div>\n",
       "<style scoped>\n",
       "    .dataframe tbody tr th:only-of-type {\n",
       "        vertical-align: middle;\n",
       "    }\n",
       "\n",
       "    .dataframe tbody tr th {\n",
       "        vertical-align: top;\n",
       "    }\n",
       "\n",
       "    .dataframe thead th {\n",
       "        text-align: right;\n",
       "    }\n",
       "</style>\n",
       "<table border=\"1\" class=\"dataframe\">\n",
       "  <thead>\n",
       "    <tr style=\"text-align: right;\">\n",
       "      <th></th>\n",
       "      <th>frase</th>\n",
       "      <th>presidente</th>\n",
       "    </tr>\n",
       "  </thead>\n",
       "  <tbody>\n",
       "    <tr>\n",
       "      <th>28</th>\n",
       "      <td></td>\n",
       "      <td>Nestor</td>\n",
       "    </tr>\n",
       "    <tr>\n",
       "      <th>29</th>\n",
       "      <td></td>\n",
       "      <td>Nestor</td>\n",
       "    </tr>\n",
       "    <tr>\n",
       "      <th>33</th>\n",
       "      <td></td>\n",
       "      <td>Nestor</td>\n",
       "    </tr>\n",
       "    <tr>\n",
       "      <th>35</th>\n",
       "      <td></td>\n",
       "      <td>Nestor</td>\n",
       "    </tr>\n",
       "    <tr>\n",
       "      <th>92</th>\n",
       "      <td></td>\n",
       "      <td>Nestor</td>\n",
       "    </tr>\n",
       "    <tr>\n",
       "      <th>93</th>\n",
       "      <td></td>\n",
       "      <td>Nestor</td>\n",
       "    </tr>\n",
       "    <tr>\n",
       "      <th>95</th>\n",
       "      <td></td>\n",
       "      <td>Nestor</td>\n",
       "    </tr>\n",
       "    <tr>\n",
       "      <th>139</th>\n",
       "      <td></td>\n",
       "      <td>Nestor</td>\n",
       "    </tr>\n",
       "    <tr>\n",
       "      <th>142</th>\n",
       "      <td></td>\n",
       "      <td>Nestor</td>\n",
       "    </tr>\n",
       "    <tr>\n",
       "      <th>145</th>\n",
       "      <td></td>\n",
       "      <td>Nestor</td>\n",
       "    </tr>\n",
       "    <tr>\n",
       "      <th>148</th>\n",
       "      <td></td>\n",
       "      <td>Nestor</td>\n",
       "    </tr>\n",
       "    <tr>\n",
       "      <th>151</th>\n",
       "      <td></td>\n",
       "      <td>Nestor</td>\n",
       "    </tr>\n",
       "    <tr>\n",
       "      <th>155</th>\n",
       "      <td></td>\n",
       "      <td>Nestor</td>\n",
       "    </tr>\n",
       "    <tr>\n",
       "      <th>158</th>\n",
       "      <td></td>\n",
       "      <td>Nestor</td>\n",
       "    </tr>\n",
       "    <tr>\n",
       "      <th>163</th>\n",
       "      <td></td>\n",
       "      <td>Nestor</td>\n",
       "    </tr>\n",
       "    <tr>\n",
       "      <th>167</th>\n",
       "      <td></td>\n",
       "      <td>Nestor</td>\n",
       "    </tr>\n",
       "    <tr>\n",
       "      <th>170</th>\n",
       "      <td></td>\n",
       "      <td>Nestor</td>\n",
       "    </tr>\n",
       "    <tr>\n",
       "      <th>176</th>\n",
       "      <td></td>\n",
       "      <td>Nestor</td>\n",
       "    </tr>\n",
       "    <tr>\n",
       "      <th>180</th>\n",
       "      <td></td>\n",
       "      <td>Nestor</td>\n",
       "    </tr>\n",
       "    <tr>\n",
       "      <th>183</th>\n",
       "      <td></td>\n",
       "      <td>Nestor</td>\n",
       "    </tr>\n",
       "    <tr>\n",
       "      <th>186</th>\n",
       "      <td></td>\n",
       "      <td>Nestor</td>\n",
       "    </tr>\n",
       "    <tr>\n",
       "      <th>189</th>\n",
       "      <td></td>\n",
       "      <td>Nestor</td>\n",
       "    </tr>\n",
       "    <tr>\n",
       "      <th>193</th>\n",
       "      <td></td>\n",
       "      <td>Nestor</td>\n",
       "    </tr>\n",
       "    <tr>\n",
       "      <th>198</th>\n",
       "      <td></td>\n",
       "      <td>Nestor</td>\n",
       "    </tr>\n",
       "    <tr>\n",
       "      <th>201</th>\n",
       "      <td></td>\n",
       "      <td>Nestor</td>\n",
       "    </tr>\n",
       "    <tr>\n",
       "      <th>204</th>\n",
       "      <td></td>\n",
       "      <td>Nestor</td>\n",
       "    </tr>\n",
       "    <tr>\n",
       "      <th>339</th>\n",
       "      <td></td>\n",
       "      <td>Nestor</td>\n",
       "    </tr>\n",
       "    <tr>\n",
       "      <th>342</th>\n",
       "      <td></td>\n",
       "      <td>Nestor</td>\n",
       "    </tr>\n",
       "    <tr>\n",
       "      <th>1376</th>\n",
       "      <td></td>\n",
       "      <td>Nestor</td>\n",
       "    </tr>\n",
       "    <tr>\n",
       "      <th>1377</th>\n",
       "      <td></td>\n",
       "      <td>Nestor</td>\n",
       "    </tr>\n",
       "    <tr>\n",
       "      <th>219</th>\n",
       "      <td></td>\n",
       "      <td>cristina</td>\n",
       "    </tr>\n",
       "    <tr>\n",
       "      <th>221</th>\n",
       "      <td></td>\n",
       "      <td>cristina</td>\n",
       "    </tr>\n",
       "    <tr>\n",
       "      <th>223</th>\n",
       "      <td></td>\n",
       "      <td>cristina</td>\n",
       "    </tr>\n",
       "    <tr>\n",
       "      <th>714</th>\n",
       "      <td></td>\n",
       "      <td>cristina</td>\n",
       "    </tr>\n",
       "    <tr>\n",
       "      <th>716</th>\n",
       "      <td></td>\n",
       "      <td>cristina</td>\n",
       "    </tr>\n",
       "    <tr>\n",
       "      <th>970</th>\n",
       "      <td></td>\n",
       "      <td>cristina</td>\n",
       "    </tr>\n",
       "    <tr>\n",
       "      <th>971</th>\n",
       "      <td></td>\n",
       "      <td>cristina</td>\n",
       "    </tr>\n",
       "    <tr>\n",
       "      <th>973</th>\n",
       "      <td></td>\n",
       "      <td>cristina</td>\n",
       "    </tr>\n",
       "    <tr>\n",
       "      <th>1484</th>\n",
       "      <td></td>\n",
       "      <td>cristina</td>\n",
       "    </tr>\n",
       "    <tr>\n",
       "      <th>1485</th>\n",
       "      <td></td>\n",
       "      <td>cristina</td>\n",
       "    </tr>\n",
       "    <tr>\n",
       "      <th>1486</th>\n",
       "      <td></td>\n",
       "      <td>cristina</td>\n",
       "    </tr>\n",
       "    <tr>\n",
       "      <th>1487</th>\n",
       "      <td></td>\n",
       "      <td>cristina</td>\n",
       "    </tr>\n",
       "    <tr>\n",
       "      <th>1489</th>\n",
       "      <td></td>\n",
       "      <td>cristina</td>\n",
       "    </tr>\n",
       "    <tr>\n",
       "      <th>1634</th>\n",
       "      <td></td>\n",
       "      <td>cristina</td>\n",
       "    </tr>\n",
       "  </tbody>\n",
       "</table>\n",
       "</div>"
      ],
      "text/plain": [
       "     frase presidente\n",
       "28             Nestor\n",
       "29             Nestor\n",
       "33             Nestor\n",
       "35             Nestor\n",
       "92             Nestor\n",
       "93             Nestor\n",
       "95             Nestor\n",
       "139            Nestor\n",
       "142            Nestor\n",
       "145            Nestor\n",
       "148            Nestor\n",
       "151            Nestor\n",
       "155            Nestor\n",
       "158            Nestor\n",
       "163            Nestor\n",
       "167            Nestor\n",
       "170            Nestor\n",
       "176            Nestor\n",
       "180            Nestor\n",
       "183            Nestor\n",
       "186            Nestor\n",
       "189            Nestor\n",
       "193            Nestor\n",
       "198            Nestor\n",
       "201            Nestor\n",
       "204            Nestor\n",
       "339            Nestor\n",
       "342            Nestor\n",
       "1376           Nestor\n",
       "1377           Nestor\n",
       "219          cristina\n",
       "221          cristina\n",
       "223          cristina\n",
       "714          cristina\n",
       "716          cristina\n",
       "970          cristina\n",
       "971          cristina\n",
       "973          cristina\n",
       "1484         cristina\n",
       "1485         cristina\n",
       "1486         cristina\n",
       "1487         cristina\n",
       "1489         cristina\n",
       "1634         cristina"
      ]
     },
     "execution_count": 28,
     "metadata": {},
     "output_type": "execute_result"
    }
   ],
   "source": [
    "data[data['frase']== '\\xa0']"
   ]
  },
  {
   "cell_type": "code",
   "execution_count": 61,
   "id": "e37fb0e7",
   "metadata": {},
   "outputs": [],
   "source": [
    "i_df = data[data['frase']== ' '].index\n",
    "\n",
    "data.drop(i_df , inplace=True)"
   ]
  },
  {
   "cell_type": "code",
   "execution_count": 62,
   "id": "ff62f435",
   "metadata": {},
   "outputs": [],
   "source": [
    "i_df2 = data[data['frase']== '\\xa0'].index\n",
    "\n",
    "data.drop(i_df2, inplace=True)"
   ]
  },
  {
   "cell_type": "code",
   "execution_count": 63,
   "id": "b0be5bea",
   "metadata": {},
   "outputs": [
    {
     "data": {
      "text/html": [
       "<div>\n",
       "<style scoped>\n",
       "    .dataframe tbody tr th:only-of-type {\n",
       "        vertical-align: middle;\n",
       "    }\n",
       "\n",
       "    .dataframe tbody tr th {\n",
       "        vertical-align: top;\n",
       "    }\n",
       "\n",
       "    .dataframe thead th {\n",
       "        text-align: right;\n",
       "    }\n",
       "</style>\n",
       "<table border=\"1\" class=\"dataframe\">\n",
       "  <thead>\n",
       "    <tr style=\"text-align: right;\">\n",
       "      <th></th>\n",
       "      <th>frase</th>\n",
       "      <th>presidente</th>\n",
       "    </tr>\n",
       "  </thead>\n",
       "  <tbody>\n",
       "    <tr>\n",
       "      <th>1</th>\n",
       "      <td>Tambièn para el compañero y amigo mendocino, ...</td>\n",
       "      <td>Nestor</td>\n",
       "    </tr>\n",
       "    <tr>\n",
       "      <th>3</th>\n",
       "      <td>Me siento profundamente emocionado de volver a...</td>\n",
       "      <td>Nestor</td>\n",
       "    </tr>\n",
       "    <tr>\n",
       "      <th>4</th>\n",
       "      <td>Y quiero decirles -y otra vez se van a dar cu...</td>\n",
       "      <td>Nestor</td>\n",
       "    </tr>\n",
       "    <tr>\n",
       "      <th>6</th>\n",
       "      <td>Acá están aquellos cariños de vida; acá están ...</td>\n",
       "      <td>Nestor</td>\n",
       "    </tr>\n",
       "    <tr>\n",
       "      <th>7</th>\n",
       "      <td>Vengo como un argentino más, como un santacru...</td>\n",
       "      <td>Nestor</td>\n",
       "    </tr>\n",
       "    <tr>\n",
       "      <th>...</th>\n",
       "      <td>...</td>\n",
       "      <td>...</td>\n",
       "    </tr>\n",
       "    <tr>\n",
       "      <th>1626</th>\n",
       "      <td>Lo que tenía que decir al final</td>\n",
       "      <td>cristina</td>\n",
       "    </tr>\n",
       "    <tr>\n",
       "      <th>1627</th>\n",
       "      <td>No lo dije todavía</td>\n",
       "      <td>cristina</td>\n",
       "    </tr>\n",
       "    <tr>\n",
       "      <th>1628</th>\n",
       "      <td>Ahora lo voy a decir</td>\n",
       "      <td>cristina</td>\n",
       "    </tr>\n",
       "    <tr>\n",
       "      <th>1629</th>\n",
       "      <td>Declaro formalmente inaugurada la decimocuart...</td>\n",
       "      <td>cristina</td>\n",
       "    </tr>\n",
       "    <tr>\n",
       "      <th>1630</th>\n",
       "      <td>Gracias a todos y a todas</td>\n",
       "      <td>cristina</td>\n",
       "    </tr>\n",
       "  </tbody>\n",
       "</table>\n",
       "<p>1970 rows × 2 columns</p>\n",
       "</div>"
      ],
      "text/plain": [
       "                                                  frase presidente\n",
       "1      Tambièn para el compañero y amigo mendocino, ...     Nestor\n",
       "3     Me siento profundamente emocionado de volver a...     Nestor\n",
       "4      Y quiero decirles -y otra vez se van a dar cu...     Nestor\n",
       "6     Acá están aquellos cariños de vida; acá están ...     Nestor\n",
       "7      Vengo como un argentino más, como un santacru...     Nestor\n",
       "...                                                 ...        ...\n",
       "1626                    Lo que tenía que decir al final   cristina\n",
       "1627                                 No lo dije todavía   cristina\n",
       "1628                               Ahora lo voy a decir   cristina\n",
       "1629   Declaro formalmente inaugurada la decimocuart...   cristina\n",
       "1630                          Gracias a todos y a todas   cristina\n",
       "\n",
       "[1970 rows x 2 columns]"
      ]
     },
     "execution_count": 63,
     "metadata": {},
     "output_type": "execute_result"
    }
   ],
   "source": [
    "data"
   ]
  },
  {
   "cell_type": "code",
   "execution_count": 64,
   "id": "09656b80",
   "metadata": {
    "scrolled": true
   },
   "outputs": [],
   "source": [
    "#%pip install nltk"
   ]
  },
  {
   "cell_type": "code",
   "execution_count": 65,
   "id": "4d114331",
   "metadata": {},
   "outputs": [],
   "source": [
    "import nltk\n",
    "#descargamos informacion necesaria\n",
    "#nltk.download('stopwords')"
   ]
  },
  {
   "cell_type": "code",
   "execution_count": 66,
   "id": "3628cfa1",
   "metadata": {},
   "outputs": [],
   "source": [
    "from nltk.corpus import stopwords"
   ]
  },
  {
   "cell_type": "code",
   "execution_count": 67,
   "id": "e2996701",
   "metadata": {},
   "outputs": [],
   "source": [
    "import matplotlib.pyplot as plt\n",
    "import seaborn as sns"
   ]
  },
  {
   "cell_type": "code",
   "execution_count": 68,
   "id": "abd7d4eb",
   "metadata": {
    "scrolled": true
   },
   "outputs": [
    {
     "ename": "KeyError",
     "evalue": "' No, no, no'",
     "output_type": "error",
     "traceback": [
      "\u001b[0;31m---------------------------------------------------------------------------\u001b[0m",
      "\u001b[0;31mKeyError\u001b[0m                                  Traceback (most recent call last)",
      "\u001b[0;32m<ipython-input-68-962ad61cc3f0>\u001b[0m in \u001b[0;36m<module>\u001b[0;34m\u001b[0m\n\u001b[1;32m     10\u001b[0m \u001b[0mxs\u001b[0m \u001b[0;34m=\u001b[0m\u001b[0;34m{\u001b[0m\u001b[0mlabel\u001b[0m\u001b[0;34m.\u001b[0m\u001b[0mget_text\u001b[0m\u001b[0;34m(\u001b[0m\u001b[0;34m)\u001b[0m\u001b[0;34m:\u001b[0m \u001b[0midx\u001b[0m \u001b[0;32mfor\u001b[0m \u001b[0midx\u001b[0m\u001b[0;34m,\u001b[0m \u001b[0mlabel\u001b[0m \u001b[0;32min\u001b[0m \u001b[0menumerate\u001b[0m\u001b[0;34m(\u001b[0m\u001b[0max\u001b[0m\u001b[0;34m.\u001b[0m\u001b[0mget_xticklabels\u001b[0m\u001b[0;34m(\u001b[0m\u001b[0;34m)\u001b[0m\u001b[0;34m)\u001b[0m\u001b[0;34m}\u001b[0m\u001b[0;34m\u001b[0m\u001b[0;34m\u001b[0m\u001b[0m\n\u001b[1;32m     11\u001b[0m \u001b[0;32mfor\u001b[0m \u001b[0mlabel\u001b[0m\u001b[0;34m,\u001b[0m \u001b[0mpct\u001b[0m \u001b[0;32min\u001b[0m \u001b[0mporcentaje\u001b[0m\u001b[0;34m.\u001b[0m\u001b[0mitems\u001b[0m\u001b[0;34m(\u001b[0m\u001b[0;34m)\u001b[0m\u001b[0;34m:\u001b[0m\u001b[0;34m\u001b[0m\u001b[0;34m\u001b[0m\u001b[0m\n\u001b[0;32m---> 12\u001b[0;31m     \u001b[0max\u001b[0m\u001b[0;34m.\u001b[0m\u001b[0mtext\u001b[0m\u001b[0;34m(\u001b[0m\u001b[0mxs\u001b[0m\u001b[0;34m[\u001b[0m\u001b[0mlabel\u001b[0m\u001b[0;34m]\u001b[0m\u001b[0;34m,\u001b[0m\u001b[0;36m11000\u001b[0m\u001b[0;34m,\u001b[0m \u001b[0;34mf\"{pct:0.2%}\"\u001b[0m\u001b[0;34m,\u001b[0m \u001b[0mha\u001b[0m\u001b[0;34m=\u001b[0m\u001b[0;34m\"center\"\u001b[0m\u001b[0;34m,\u001b[0m \u001b[0mfontsize\u001b[0m\u001b[0;34m=\u001b[0m\u001b[0;34m\"xx-large\"\u001b[0m\u001b[0;34m,\u001b[0m \u001b[0mc\u001b[0m\u001b[0;34m=\u001b[0m\u001b[0;34m\"white\"\u001b[0m\u001b[0;34m)\u001b[0m\u001b[0;34m\u001b[0m\u001b[0;34m\u001b[0m\u001b[0m\n\u001b[0m\u001b[1;32m     13\u001b[0m     \u001b[0;32mpass\u001b[0m\u001b[0;34m\u001b[0m\u001b[0;34m\u001b[0m\u001b[0m\n",
      "\u001b[0;31mKeyError\u001b[0m: ' No, no, no'"
     ]
    },
    {
     "data": {
      "image/png": "[encoded data removed]",
      "text/plain": [
       "<Figure size 600x400 with 1 Axes>"
      ]
     },
     "metadata": {
      "needs_background": "light"
     },
     "output_type": "display_data"
    }
   ],
   "source": [
    "fig = plt.figure(dpi=100)\n",
    "ax = fig.gca()\n",
    "sns.countplot(x=data.presidente, data=data.frase, ax=ax)\n",
    "ax.set_title(\"etiquetas\")\n",
    "ax.set_xlabel(\"frase\")\n",
    "ax.set_ylabel(\"cuenta\")\n",
    "\n",
    "\n",
    "porcentaje = (data.frase.value_counts() / len(data)).to_dict()\n",
    "xs ={label.get_text(): idx for idx, label in enumerate(ax.get_xticklabels())}\n",
    "for label, pct in porcentaje.items():\n",
    "    ax.text(xs[label],11000, f\"{pct:0.2%}\", ha=\"center\", fontsize=\"xx-large\", c=\"white\")\n",
    "    pass"
   ]
  },
  {
   "cell_type": "code",
   "execution_count": 69,
   "id": "7d4db04e",
   "metadata": {},
   "outputs": [],
   "source": [
    "#desarrollar un grafico de violin para ver el largo de las frases"
   ]
  },
  {
   "cell_type": "code",
   "execution_count": 70,
   "id": "a109599c",
   "metadata": {},
   "outputs": [],
   "source": [
    "data.to_parquet('df_presindencial.parquet')"
   ]
  },
  {
   "cell_type": "code",
   "execution_count": 71,
   "id": "148b8cd7",
   "metadata": {},
   "outputs": [],
   "source": [
    "df = pd.read_parquet('df_presindencial.parquet')"
   ]
  },
  {
   "cell_type": "code",
   "execution_count": 72,
   "id": "b22d5d7f",
   "metadata": {},
   "outputs": [
    {
     "data": {
      "text/html": [
       "<div>\n",
       "<style scoped>\n",
       "    .dataframe tbody tr th:only-of-type {\n",
       "        vertical-align: middle;\n",
       "    }\n",
       "\n",
       "    .dataframe tbody tr th {\n",
       "        vertical-align: top;\n",
       "    }\n",
       "\n",
       "    .dataframe thead th {\n",
       "        text-align: right;\n",
       "    }\n",
       "</style>\n",
       "<table border=\"1\" class=\"dataframe\">\n",
       "  <thead>\n",
       "    <tr style=\"text-align: right;\">\n",
       "      <th></th>\n",
       "      <th>frase</th>\n",
       "      <th>presidente</th>\n",
       "    </tr>\n",
       "    <tr>\n",
       "      <th>index</th>\n",
       "      <th></th>\n",
       "      <th></th>\n",
       "    </tr>\n",
       "  </thead>\n",
       "  <tbody>\n",
       "    <tr>\n",
       "      <th>1</th>\n",
       "      <td>Tambièn para el compañero y amigo mendocino, ...</td>\n",
       "      <td>Nestor</td>\n",
       "    </tr>\n",
       "    <tr>\n",
       "      <th>3</th>\n",
       "      <td>Me siento profundamente emocionado de volver a...</td>\n",
       "      <td>Nestor</td>\n",
       "    </tr>\n",
       "    <tr>\n",
       "      <th>4</th>\n",
       "      <td>Y quiero decirles -y otra vez se van a dar cu...</td>\n",
       "      <td>Nestor</td>\n",
       "    </tr>\n",
       "    <tr>\n",
       "      <th>6</th>\n",
       "      <td>Acá están aquellos cariños de vida; acá están ...</td>\n",
       "      <td>Nestor</td>\n",
       "    </tr>\n",
       "    <tr>\n",
       "      <th>7</th>\n",
       "      <td>Vengo como un argentino más, como un santacru...</td>\n",
       "      <td>Nestor</td>\n",
       "    </tr>\n",
       "    <tr>\n",
       "      <th>...</th>\n",
       "      <td>...</td>\n",
       "      <td>...</td>\n",
       "    </tr>\n",
       "    <tr>\n",
       "      <th>1626</th>\n",
       "      <td>Lo que tenía que decir al final</td>\n",
       "      <td>cristina</td>\n",
       "    </tr>\n",
       "    <tr>\n",
       "      <th>1627</th>\n",
       "      <td>No lo dije todavía</td>\n",
       "      <td>cristina</td>\n",
       "    </tr>\n",
       "    <tr>\n",
       "      <th>1628</th>\n",
       "      <td>Ahora lo voy a decir</td>\n",
       "      <td>cristina</td>\n",
       "    </tr>\n",
       "    <tr>\n",
       "      <th>1629</th>\n",
       "      <td>Declaro formalmente inaugurada la decimocuart...</td>\n",
       "      <td>cristina</td>\n",
       "    </tr>\n",
       "    <tr>\n",
       "      <th>1630</th>\n",
       "      <td>Gracias a todos y a todas</td>\n",
       "      <td>cristina</td>\n",
       "    </tr>\n",
       "  </tbody>\n",
       "</table>\n",
       "<p>1970 rows × 2 columns</p>\n",
       "</div>"
      ],
      "text/plain": [
       "                                                   frase presidente\n",
       "index                                                              \n",
       "1       Tambièn para el compañero y amigo mendocino, ...     Nestor\n",
       "3      Me siento profundamente emocionado de volver a...     Nestor\n",
       "4       Y quiero decirles -y otra vez se van a dar cu...     Nestor\n",
       "6      Acá están aquellos cariños de vida; acá están ...     Nestor\n",
       "7       Vengo como un argentino más, como un santacru...     Nestor\n",
       "...                                                  ...        ...\n",
       "1626                     Lo que tenía que decir al final   cristina\n",
       "1627                                  No lo dije todavía   cristina\n",
       "1628                                Ahora lo voy a decir   cristina\n",
       "1629    Declaro formalmente inaugurada la decimocuart...   cristina\n",
       "1630                           Gracias a todos y a todas   cristina\n",
       "\n",
       "[1970 rows x 2 columns]"
      ]
     },
     "execution_count": 72,
     "metadata": {},
     "output_type": "execute_result"
    }
   ],
   "source": [
    "df"
   ]
  },
  {
   "cell_type": "markdown",
   "id": "81cbecea",
   "metadata": {},
   "source": [
    "Dividir el Data Set"
   ]
  },
  {
   "cell_type": "code",
   "execution_count": 73,
   "id": "ea1fa957",
   "metadata": {},
   "outputs": [],
   "source": [
    "from sklearn.model_selection import train_test_split"
   ]
  },
  {
   "cell_type": "code",
   "execution_count": 74,
   "id": "27a69cfd",
   "metadata": {},
   "outputs": [],
   "source": [
    "rest, test = train_test_split(df, test_size=0.2, stratify=df['presidente'])"
   ]
  },
  {
   "cell_type": "code",
   "execution_count": 75,
   "id": "f1d5b084",
   "metadata": {},
   "outputs": [],
   "source": [
    "train, val= train_test_split(rest, test_size=0.2, stratify=rest['presidente'])"
   ]
  },
  {
   "cell_type": "code",
   "execution_count": 76,
   "id": "b4617d72",
   "metadata": {},
   "outputs": [
    {
     "name": "stdout",
     "output_type": "stream",
     "text": [
      "ejemplos para entrenar:  1260 \n",
      " ejemplos para modelar:  316 \n",
      " ejemplos para validacion:  394\n"
     ]
    }
   ],
   "source": [
    "print('ejemplos para entrenar: ',len(train),'\\n','ejemplos para modelar: ',len(val),'\\n','ejemplos para validacion: ',len(test))"
   ]
  },
  {
   "cell_type": "markdown",
   "id": "bdf0f036",
   "metadata": {},
   "source": [
    "Guardar los tres conjuntos:"
   ]
  },
  {
   "cell_type": "code",
   "execution_count": 77,
   "id": "4e7ef125",
   "metadata": {},
   "outputs": [],
   "source": [
    "frase_train = train['frase']\n",
    "frase_val =  val['frase']\n",
    "frase_test = test['frase']"
   ]
  },
  {
   "cell_type": "markdown",
   "id": "429cb544",
   "metadata": {},
   "source": [
    "etiquetas:"
   ]
  },
  {
   "cell_type": "code",
   "execution_count": 78,
   "id": "f0485d8d",
   "metadata": {},
   "outputs": [],
   "source": [
    "target_train= train['presidente']\n",
    "target_val= val['presidente']\n",
    "target_test= test['presidente']"
   ]
  },
  {
   "cell_type": "code",
   "execution_count": 79,
   "id": "eeed1afa",
   "metadata": {},
   "outputs": [
    {
     "data": {
      "text/plain": [
       "index\n",
       "238       Nestor\n",
       "598     cristina\n",
       "173       Nestor\n",
       "1599    cristina\n",
       "1084      Nestor\n",
       "          ...   \n",
       "436     cristina\n",
       "323       Nestor\n",
       "523     cristina\n",
       "361       Nestor\n",
       "998     cristina\n",
       "Name: presidente, Length: 316, dtype: object"
      ]
     },
     "execution_count": 79,
     "metadata": {},
     "output_type": "execute_result"
    }
   ],
   "source": [
    "target_val\n"
   ]
  },
  {
   "cell_type": "markdown",
   "id": "7bd7bf8b",
   "metadata": {},
   "source": [
    "# Feature Engineering"
   ]
  },
  {
   "cell_type": "markdown",
   "id": "2c9e9cba",
   "metadata": {},
   "source": [
    "empezamos a escribir el codigo ML"
   ]
  },
  {
   "cell_type": "code",
   "execution_count": 80,
   "id": "d92152a5",
   "metadata": {},
   "outputs": [],
   "source": [
    "#convertir nuestras etiquetas a numeros\n",
    "train_y = np.where(target_train == 'Nestor', 1,0) \n",
    "val_y = np.where(target_val == 'Nestor', 1,0) \n",
    "test_y = np.where(target_test == 'Nestor', 1,0) "
   ]
  },
  {
   "cell_type": "code",
   "execution_count": 81,
   "id": "98a4efef",
   "metadata": {},
   "outputs": [
    {
     "data": {
      "text/plain": [
       "array([1, 1, 1, ..., 1, 0, 1])"
      ]
     },
     "execution_count": 81,
     "metadata": {},
     "output_type": "execute_result"
    }
   ],
   "source": [
    "train_y"
   ]
  },
  {
   "cell_type": "code",
   "execution_count": 82,
   "id": "09980b71",
   "metadata": {},
   "outputs": [],
   "source": [
    "#texto"
   ]
  },
  {
   "cell_type": "code",
   "execution_count": 83,
   "id": "51758a84",
   "metadata": {},
   "outputs": [],
   "source": [
    "ejemplo = frase_train.iloc[200]"
   ]
  },
  {
   "cell_type": "code",
   "execution_count": 85,
   "id": "b6658d74",
   "metadata": {},
   "outputs": [
    {
     "data": {
      "text/plain": [
       "' Se ha restablecido el pleno derecho de los padres a reconocer a sus hijos, derogando un impedimento vigente y se sacaron exigencias que basándose en características meramente estéticas, hacían de los requisitos de ingreso a las instituciones militares un caso concreto de discriminación por motivos inadmisibles en un contexto democrático respetuoso de la dignidad humana'"
      ]
     },
     "execution_count": 85,
     "metadata": {},
     "output_type": "execute_result"
    }
   ],
   "source": [
    "ejemplo"
   ]
  },
  {
   "cell_type": "code",
   "execution_count": 86,
   "id": "f76292b1",
   "metadata": {},
   "outputs": [],
   "source": [
    "from nltk.tokenize.toktok import ToktokTokenizer\n",
    "tk_tokenizer = ToktokTokenizer()\n",
    "tokens = tk_tokenizer.tokenize(ejemplo)"
   ]
  },
  {
   "cell_type": "code",
   "execution_count": 87,
   "id": "5f690fa7",
   "metadata": {
    "scrolled": true
   },
   "outputs": [
    {
     "data": {
      "text/plain": [
       "['Se',\n",
       " 'ha',\n",
       " 'restablecido',\n",
       " 'el',\n",
       " 'pleno',\n",
       " 'derecho',\n",
       " 'de',\n",
       " 'los',\n",
       " 'padres',\n",
       " 'a',\n",
       " 'reconocer',\n",
       " 'a',\n",
       " 'sus',\n",
       " 'hijos',\n",
       " ',',\n",
       " 'derogando',\n",
       " 'un',\n",
       " 'impedimento',\n",
       " 'vigente',\n",
       " 'y',\n",
       " 'se',\n",
       " 'sacaron',\n",
       " 'exigencias',\n",
       " 'que',\n",
       " 'basándose',\n",
       " 'en',\n",
       " 'características',\n",
       " 'meramente',\n",
       " 'estéticas',\n",
       " ',',\n",
       " 'hacían',\n",
       " 'de',\n",
       " 'los',\n",
       " 'requisitos',\n",
       " 'de',\n",
       " 'ingreso',\n",
       " 'a',\n",
       " 'las',\n",
       " 'instituciones',\n",
       " 'militares',\n",
       " 'un',\n",
       " 'caso',\n",
       " 'concreto',\n",
       " 'de',\n",
       " 'discriminación',\n",
       " 'por',\n",
       " 'motivos',\n",
       " 'inadmisibles',\n",
       " 'en',\n",
       " 'un',\n",
       " 'contexto',\n",
       " 'democrático',\n",
       " 'respetuoso',\n",
       " 'de',\n",
       " 'la',\n",
       " 'dignidad',\n",
       " 'humana']"
      ]
     },
     "execution_count": 87,
     "metadata": {},
     "output_type": "execute_result"
    }
   ],
   "source": [
    "tokens"
   ]
  },
  {
   "cell_type": "markdown",
   "id": "c5a618c4",
   "metadata": {},
   "source": [
    "- simbolos de puntuacion \n",
    "- stopwords\n",
    "- acentos(tildes)\n",
    "\n",
    "limpiar y extraer la informacion mas util"
   ]
  },
  {
   "cell_type": "code",
   "execution_count": 12,
   "id": "f383e9d3",
   "metadata": {
    "scrolled": true
   },
   "outputs": [
    {
     "name": "stdout",
     "output_type": "stream",
     "text": [
      "Defaulting to user installation because normal site-packages is not writeable\n",
      "Collecting unidecode\n",
      "  Downloading Unidecode-1.3.4-py3-none-any.whl (235 kB)\n",
      "\u001b[2K     \u001b[38;2;114;156;31m━━━━━━━━━━━━━━━━━━━━━━━━━━━━━━━━━━━━━━━\u001b[0m \u001b[32m235.9/235.9 KB\u001b[0m \u001b[31m2.5 MB/s\u001b[0m eta \u001b[36m0:00:00\u001b[0mm eta \u001b[36m0:00:01\u001b[0m\n",
      "\u001b[?25hInstalling collected packages: unidecode\n",
      "Successfully installed unidecode-1.3.4\n",
      "\u001b[33mWARNING: You are using pip version 22.0.4; however, version 22.1.2 is available.\n",
      "You should consider upgrading via the '/usr/bin/python3 -m pip install --upgrade pip' command.\u001b[0m\u001b[33m\n",
      "\u001b[0mNote: you may need to restart the kernel to use updated packages.\n"
     ]
    }
   ],
   "source": [
    "%pip install unidecode"
   ]
  },
  {
   "cell_type": "code",
   "execution_count": 88,
   "id": "71e5919a",
   "metadata": {},
   "outputs": [],
   "source": [
    "from nltk.corpus import stopwords\n",
    "import unidecode\n",
    "import string\n",
    "sp_stopwords = stopwords.words(\"spanish\") # stopwords del idioma español\n"
   ]
  },
  {
   "cell_type": "code",
   "execution_count": 89,
   "id": "7f39cf84",
   "metadata": {},
   "outputs": [
    {
     "data": {
      "text/plain": [
       "['de',\n",
       " 'la',\n",
       " 'que',\n",
       " 'el',\n",
       " 'en',\n",
       " 'y',\n",
       " 'a',\n",
       " 'los',\n",
       " 'del',\n",
       " 'se',\n",
       " 'las',\n",
       " 'por',\n",
       " 'un',\n",
       " 'para',\n",
       " 'con',\n",
       " 'no',\n",
       " 'una',\n",
       " 'su',\n",
       " 'al',\n",
       " 'lo',\n",
       " 'como',\n",
       " 'más',\n",
       " 'pero',\n",
       " 'sus',\n",
       " 'le',\n",
       " 'ya',\n",
       " 'o',\n",
       " 'este',\n",
       " 'sí',\n",
       " 'porque',\n",
       " 'esta',\n",
       " 'entre',\n",
       " 'cuando',\n",
       " 'muy',\n",
       " 'sin',\n",
       " 'sobre',\n",
       " 'también',\n",
       " 'me',\n",
       " 'hasta',\n",
       " 'hay',\n",
       " 'donde',\n",
       " 'quien',\n",
       " 'desde',\n",
       " 'todo',\n",
       " 'nos',\n",
       " 'durante',\n",
       " 'todos',\n",
       " 'uno',\n",
       " 'les',\n",
       " 'ni',\n",
       " 'contra',\n",
       " 'otros',\n",
       " 'ese',\n",
       " 'eso',\n",
       " 'ante',\n",
       " 'ellos',\n",
       " 'e',\n",
       " 'esto',\n",
       " 'mí',\n",
       " 'antes',\n",
       " 'algunos',\n",
       " 'qué',\n",
       " 'unos',\n",
       " 'yo',\n",
       " 'otro',\n",
       " 'otras',\n",
       " 'otra',\n",
       " 'él',\n",
       " 'tanto',\n",
       " 'esa',\n",
       " 'estos',\n",
       " 'mucho',\n",
       " 'quienes',\n",
       " 'nada',\n",
       " 'muchos',\n",
       " 'cual',\n",
       " 'poco',\n",
       " 'ella',\n",
       " 'estar',\n",
       " 'estas',\n",
       " 'algunas',\n",
       " 'algo',\n",
       " 'nosotros',\n",
       " 'mi',\n",
       " 'mis',\n",
       " 'tú',\n",
       " 'te',\n",
       " 'ti',\n",
       " 'tu',\n",
       " 'tus',\n",
       " 'ellas',\n",
       " 'nosotras',\n",
       " 'vosotros',\n",
       " 'vosotras',\n",
       " 'os',\n",
       " 'mío',\n",
       " 'mía',\n",
       " 'míos',\n",
       " 'mías',\n",
       " 'tuyo',\n",
       " 'tuya',\n",
       " 'tuyos',\n",
       " 'tuyas',\n",
       " 'suyo',\n",
       " 'suya',\n",
       " 'suyos',\n",
       " 'suyas',\n",
       " 'nuestro',\n",
       " 'nuestra',\n",
       " 'nuestros',\n",
       " 'nuestras',\n",
       " 'vuestro',\n",
       " 'vuestra',\n",
       " 'vuestros',\n",
       " 'vuestras',\n",
       " 'esos',\n",
       " 'esas',\n",
       " 'estoy',\n",
       " 'estás',\n",
       " 'está',\n",
       " 'estamos',\n",
       " 'estáis',\n",
       " 'están',\n",
       " 'esté',\n",
       " 'estés',\n",
       " 'estemos',\n",
       " 'estéis',\n",
       " 'estén',\n",
       " 'estaré',\n",
       " 'estarás',\n",
       " 'estará',\n",
       " 'estaremos',\n",
       " 'estaréis',\n",
       " 'estarán',\n",
       " 'estaría',\n",
       " 'estarías',\n",
       " 'estaríamos',\n",
       " 'estaríais',\n",
       " 'estarían',\n",
       " 'estaba',\n",
       " 'estabas',\n",
       " 'estábamos',\n",
       " 'estabais',\n",
       " 'estaban',\n",
       " 'estuve',\n",
       " 'estuviste',\n",
       " 'estuvo',\n",
       " 'estuvimos',\n",
       " 'estuvisteis',\n",
       " 'estuvieron',\n",
       " 'estuviera',\n",
       " 'estuvieras',\n",
       " 'estuviéramos',\n",
       " 'estuvierais',\n",
       " 'estuvieran',\n",
       " 'estuviese',\n",
       " 'estuvieses',\n",
       " 'estuviésemos',\n",
       " 'estuvieseis',\n",
       " 'estuviesen',\n",
       " 'estando',\n",
       " 'estado',\n",
       " 'estada',\n",
       " 'estados',\n",
       " 'estadas',\n",
       " 'estad',\n",
       " 'he',\n",
       " 'has',\n",
       " 'ha',\n",
       " 'hemos',\n",
       " 'habéis',\n",
       " 'han',\n",
       " 'haya',\n",
       " 'hayas',\n",
       " 'hayamos',\n",
       " 'hayáis',\n",
       " 'hayan',\n",
       " 'habré',\n",
       " 'habrás',\n",
       " 'habrá',\n",
       " 'habremos',\n",
       " 'habréis',\n",
       " 'habrán',\n",
       " 'habría',\n",
       " 'habrías',\n",
       " 'habríamos',\n",
       " 'habríais',\n",
       " 'habrían',\n",
       " 'había',\n",
       " 'habías',\n",
       " 'habíamos',\n",
       " 'habíais',\n",
       " 'habían',\n",
       " 'hube',\n",
       " 'hubiste',\n",
       " 'hubo',\n",
       " 'hubimos',\n",
       " 'hubisteis',\n",
       " 'hubieron',\n",
       " 'hubiera',\n",
       " 'hubieras',\n",
       " 'hubiéramos',\n",
       " 'hubierais',\n",
       " 'hubieran',\n",
       " 'hubiese',\n",
       " 'hubieses',\n",
       " 'hubiésemos',\n",
       " 'hubieseis',\n",
       " 'hubiesen',\n",
       " 'habiendo',\n",
       " 'habido',\n",
       " 'habida',\n",
       " 'habidos',\n",
       " 'habidas',\n",
       " 'soy',\n",
       " 'eres',\n",
       " 'es',\n",
       " 'somos',\n",
       " 'sois',\n",
       " 'son',\n",
       " 'sea',\n",
       " 'seas',\n",
       " 'seamos',\n",
       " 'seáis',\n",
       " 'sean',\n",
       " 'seré',\n",
       " 'serás',\n",
       " 'será',\n",
       " 'seremos',\n",
       " 'seréis',\n",
       " 'serán',\n",
       " 'sería',\n",
       " 'serías',\n",
       " 'seríamos',\n",
       " 'seríais',\n",
       " 'serían',\n",
       " 'era',\n",
       " 'eras',\n",
       " 'éramos',\n",
       " 'erais',\n",
       " 'eran',\n",
       " 'fui',\n",
       " 'fuiste',\n",
       " 'fue',\n",
       " 'fuimos',\n",
       " 'fuisteis',\n",
       " 'fueron',\n",
       " 'fuera',\n",
       " 'fueras',\n",
       " 'fuéramos',\n",
       " 'fuerais',\n",
       " 'fueran',\n",
       " 'fuese',\n",
       " 'fueses',\n",
       " 'fuésemos',\n",
       " 'fueseis',\n",
       " 'fuesen',\n",
       " 'sintiendo',\n",
       " 'sentido',\n",
       " 'sentida',\n",
       " 'sentidos',\n",
       " 'sentidas',\n",
       " 'siente',\n",
       " 'sentid',\n",
       " 'tengo',\n",
       " 'tienes',\n",
       " 'tiene',\n",
       " 'tenemos',\n",
       " 'tenéis',\n",
       " 'tienen',\n",
       " 'tenga',\n",
       " 'tengas',\n",
       " 'tengamos',\n",
       " 'tengáis',\n",
       " 'tengan',\n",
       " 'tendré',\n",
       " 'tendrás',\n",
       " 'tendrá',\n",
       " 'tendremos',\n",
       " 'tendréis',\n",
       " 'tendrán',\n",
       " 'tendría',\n",
       " 'tendrías',\n",
       " 'tendríamos',\n",
       " 'tendríais',\n",
       " 'tendrían',\n",
       " 'tenía',\n",
       " 'tenías',\n",
       " 'teníamos',\n",
       " 'teníais',\n",
       " 'tenían',\n",
       " 'tuve',\n",
       " 'tuviste',\n",
       " 'tuvo',\n",
       " 'tuvimos',\n",
       " 'tuvisteis',\n",
       " 'tuvieron',\n",
       " 'tuviera',\n",
       " 'tuvieras',\n",
       " 'tuviéramos',\n",
       " 'tuvierais',\n",
       " 'tuvieran',\n",
       " 'tuviese',\n",
       " 'tuvieses',\n",
       " 'tuviésemos',\n",
       " 'tuvieseis',\n",
       " 'tuviesen',\n",
       " 'teniendo',\n",
       " 'tenido',\n",
       " 'tenida',\n",
       " 'tenidos',\n",
       " 'tenidas',\n",
       " 'tened']"
      ]
     },
     "execution_count": 89,
     "metadata": {},
     "output_type": "execute_result"
    }
   ],
   "source": [
    "sp_stopwords # stopwords del idioma español"
   ]
  },
  {
   "cell_type": "code",
   "execution_count": 4,
   "id": "e0f4dda6",
   "metadata": {},
   "outputs": [],
   "source": [
    "# limpieza modulo string para puntuacion "
   ]
  },
  {
   "cell_type": "code",
   "execution_count": 5,
   "id": "63f8f99c",
   "metadata": {},
   "outputs": [],
   "source": [
    "sp_puntuacion = string.punctuation + '¿¡'"
   ]
  },
  {
   "cell_type": "code",
   "execution_count": 18,
   "id": "f3c99b30",
   "metadata": {},
   "outputs": [
    {
     "data": {
      "text/plain": [
       "'!\"#$%&\\'()*+,-./:;<=>?@[\\\\]^_`{|}~¿¡'"
      ]
     },
     "execution_count": 18,
     "metadata": {},
     "output_type": "execute_result"
    }
   ],
   "source": [
    "sp_puntuacion"
   ]
  },
  {
   "cell_type": "code",
   "execution_count": 90,
   "id": "16e742f8",
   "metadata": {},
   "outputs": [],
   "source": [
    "no_deseados = set((unidecode.unidecode(word) for word in sp_stopwords))| set(sp_puntuacion)"
   ]
  },
  {
   "cell_type": "code",
   "execution_count": 91,
   "id": "fa068d11",
   "metadata": {},
   "outputs": [
    {
     "data": {
      "text/plain": [
       "{'!',\n",
       " '\"',\n",
       " '#',\n",
       " '$',\n",
       " '%',\n",
       " '&',\n",
       " \"'\",\n",
       " '(',\n",
       " ')',\n",
       " '*',\n",
       " '+',\n",
       " ',',\n",
       " '-',\n",
       " '.',\n",
       " '/',\n",
       " ':',\n",
       " ';',\n",
       " '<',\n",
       " '=',\n",
       " '>',\n",
       " '?',\n",
       " '@',\n",
       " '[',\n",
       " '\\\\',\n",
       " ']',\n",
       " '^',\n",
       " '_',\n",
       " '`',\n",
       " 'a',\n",
       " 'al',\n",
       " 'algo',\n",
       " 'algunas',\n",
       " 'algunos',\n",
       " 'ante',\n",
       " 'antes',\n",
       " 'como',\n",
       " 'con',\n",
       " 'contra',\n",
       " 'cual',\n",
       " 'cuando',\n",
       " 'de',\n",
       " 'del',\n",
       " 'desde',\n",
       " 'donde',\n",
       " 'durante',\n",
       " 'e',\n",
       " 'el',\n",
       " 'ella',\n",
       " 'ellas',\n",
       " 'ellos',\n",
       " 'en',\n",
       " 'entre',\n",
       " 'era',\n",
       " 'erais',\n",
       " 'eramos',\n",
       " 'eran',\n",
       " 'eras',\n",
       " 'eres',\n",
       " 'es',\n",
       " 'esa',\n",
       " 'esas',\n",
       " 'ese',\n",
       " 'eso',\n",
       " 'esos',\n",
       " 'esta',\n",
       " 'estaba',\n",
       " 'estabais',\n",
       " 'estabamos',\n",
       " 'estaban',\n",
       " 'estabas',\n",
       " 'estad',\n",
       " 'estada',\n",
       " 'estadas',\n",
       " 'estado',\n",
       " 'estados',\n",
       " 'estais',\n",
       " 'estamos',\n",
       " 'estan',\n",
       " 'estando',\n",
       " 'estar',\n",
       " 'estara',\n",
       " 'estaran',\n",
       " 'estaras',\n",
       " 'estare',\n",
       " 'estareis',\n",
       " 'estaremos',\n",
       " 'estaria',\n",
       " 'estariais',\n",
       " 'estariamos',\n",
       " 'estarian',\n",
       " 'estarias',\n",
       " 'estas',\n",
       " 'este',\n",
       " 'esteis',\n",
       " 'estemos',\n",
       " 'esten',\n",
       " 'estes',\n",
       " 'esto',\n",
       " 'estos',\n",
       " 'estoy',\n",
       " 'estuve',\n",
       " 'estuviera',\n",
       " 'estuvierais',\n",
       " 'estuvieramos',\n",
       " 'estuvieran',\n",
       " 'estuvieras',\n",
       " 'estuvieron',\n",
       " 'estuviese',\n",
       " 'estuvieseis',\n",
       " 'estuviesemos',\n",
       " 'estuviesen',\n",
       " 'estuvieses',\n",
       " 'estuvimos',\n",
       " 'estuviste',\n",
       " 'estuvisteis',\n",
       " 'estuvo',\n",
       " 'fue',\n",
       " 'fuera',\n",
       " 'fuerais',\n",
       " 'fueramos',\n",
       " 'fueran',\n",
       " 'fueras',\n",
       " 'fueron',\n",
       " 'fuese',\n",
       " 'fueseis',\n",
       " 'fuesemos',\n",
       " 'fuesen',\n",
       " 'fueses',\n",
       " 'fui',\n",
       " 'fuimos',\n",
       " 'fuiste',\n",
       " 'fuisteis',\n",
       " 'ha',\n",
       " 'habeis',\n",
       " 'habia',\n",
       " 'habiais',\n",
       " 'habiamos',\n",
       " 'habian',\n",
       " 'habias',\n",
       " 'habida',\n",
       " 'habidas',\n",
       " 'habido',\n",
       " 'habidos',\n",
       " 'habiendo',\n",
       " 'habra',\n",
       " 'habran',\n",
       " 'habras',\n",
       " 'habre',\n",
       " 'habreis',\n",
       " 'habremos',\n",
       " 'habria',\n",
       " 'habriais',\n",
       " 'habriamos',\n",
       " 'habrian',\n",
       " 'habrias',\n",
       " 'han',\n",
       " 'has',\n",
       " 'hasta',\n",
       " 'hay',\n",
       " 'haya',\n",
       " 'hayais',\n",
       " 'hayamos',\n",
       " 'hayan',\n",
       " 'hayas',\n",
       " 'he',\n",
       " 'hemos',\n",
       " 'hube',\n",
       " 'hubiera',\n",
       " 'hubierais',\n",
       " 'hubieramos',\n",
       " 'hubieran',\n",
       " 'hubieras',\n",
       " 'hubieron',\n",
       " 'hubiese',\n",
       " 'hubieseis',\n",
       " 'hubiesemos',\n",
       " 'hubiesen',\n",
       " 'hubieses',\n",
       " 'hubimos',\n",
       " 'hubiste',\n",
       " 'hubisteis',\n",
       " 'hubo',\n",
       " 'la',\n",
       " 'las',\n",
       " 'le',\n",
       " 'les',\n",
       " 'lo',\n",
       " 'los',\n",
       " 'mas',\n",
       " 'me',\n",
       " 'mi',\n",
       " 'mia',\n",
       " 'mias',\n",
       " 'mio',\n",
       " 'mios',\n",
       " 'mis',\n",
       " 'mucho',\n",
       " 'muchos',\n",
       " 'muy',\n",
       " 'nada',\n",
       " 'ni',\n",
       " 'no',\n",
       " 'nos',\n",
       " 'nosotras',\n",
       " 'nosotros',\n",
       " 'nuestra',\n",
       " 'nuestras',\n",
       " 'nuestro',\n",
       " 'nuestros',\n",
       " 'o',\n",
       " 'os',\n",
       " 'otra',\n",
       " 'otras',\n",
       " 'otro',\n",
       " 'otros',\n",
       " 'para',\n",
       " 'pero',\n",
       " 'poco',\n",
       " 'por',\n",
       " 'porque',\n",
       " 'que',\n",
       " 'quien',\n",
       " 'quienes',\n",
       " 'se',\n",
       " 'sea',\n",
       " 'seais',\n",
       " 'seamos',\n",
       " 'sean',\n",
       " 'seas',\n",
       " 'sentid',\n",
       " 'sentida',\n",
       " 'sentidas',\n",
       " 'sentido',\n",
       " 'sentidos',\n",
       " 'sera',\n",
       " 'seran',\n",
       " 'seras',\n",
       " 'sere',\n",
       " 'sereis',\n",
       " 'seremos',\n",
       " 'seria',\n",
       " 'seriais',\n",
       " 'seriamos',\n",
       " 'serian',\n",
       " 'serias',\n",
       " 'si',\n",
       " 'siente',\n",
       " 'sin',\n",
       " 'sintiendo',\n",
       " 'sobre',\n",
       " 'sois',\n",
       " 'somos',\n",
       " 'son',\n",
       " 'soy',\n",
       " 'su',\n",
       " 'sus',\n",
       " 'suya',\n",
       " 'suyas',\n",
       " 'suyo',\n",
       " 'suyos',\n",
       " 'tambien',\n",
       " 'tanto',\n",
       " 'te',\n",
       " 'tendra',\n",
       " 'tendran',\n",
       " 'tendras',\n",
       " 'tendre',\n",
       " 'tendreis',\n",
       " 'tendremos',\n",
       " 'tendria',\n",
       " 'tendriais',\n",
       " 'tendriamos',\n",
       " 'tendrian',\n",
       " 'tendrias',\n",
       " 'tened',\n",
       " 'teneis',\n",
       " 'tenemos',\n",
       " 'tenga',\n",
       " 'tengais',\n",
       " 'tengamos',\n",
       " 'tengan',\n",
       " 'tengas',\n",
       " 'tengo',\n",
       " 'tenia',\n",
       " 'teniais',\n",
       " 'teniamos',\n",
       " 'tenian',\n",
       " 'tenias',\n",
       " 'tenida',\n",
       " 'tenidas',\n",
       " 'tenido',\n",
       " 'tenidos',\n",
       " 'teniendo',\n",
       " 'ti',\n",
       " 'tiene',\n",
       " 'tienen',\n",
       " 'tienes',\n",
       " 'todo',\n",
       " 'todos',\n",
       " 'tu',\n",
       " 'tus',\n",
       " 'tuve',\n",
       " 'tuviera',\n",
       " 'tuvierais',\n",
       " 'tuvieramos',\n",
       " 'tuvieran',\n",
       " 'tuvieras',\n",
       " 'tuvieron',\n",
       " 'tuviese',\n",
       " 'tuvieseis',\n",
       " 'tuviesemos',\n",
       " 'tuviesen',\n",
       " 'tuvieses',\n",
       " 'tuvimos',\n",
       " 'tuviste',\n",
       " 'tuvisteis',\n",
       " 'tuvo',\n",
       " 'tuya',\n",
       " 'tuyas',\n",
       " 'tuyo',\n",
       " 'tuyos',\n",
       " 'un',\n",
       " 'una',\n",
       " 'uno',\n",
       " 'unos',\n",
       " 'vosotras',\n",
       " 'vosotros',\n",
       " 'vuestra',\n",
       " 'vuestras',\n",
       " 'vuestro',\n",
       " 'vuestros',\n",
       " 'y',\n",
       " 'ya',\n",
       " 'yo',\n",
       " '{',\n",
       " '|',\n",
       " '}',\n",
       " '~',\n",
       " '¡',\n",
       " '¿'}"
      ]
     },
     "execution_count": 91,
     "metadata": {},
     "output_type": "execute_result"
    }
   ],
   "source": [
    "no_deseados"
   ]
  },
  {
   "cell_type": "code",
   "execution_count": 110,
   "id": "7ef37d1e",
   "metadata": {},
   "outputs": [],
   "source": [
    "tk_tokenisador = ToktokTokenizer()\n",
    "\n",
    "def tokenise(sentence):\n",
    "    \"\"\"funcion devuelve las palabras limpias de una frase sin los acentos conectores o caracteres especiales\n",
    "        >>> ejemplo\n",
    "        >>> ' Se ha restablecido el pleno derecho de los padres a reconocer a sus hijos, derogando un impedimento vigente y se sacaron exigencias que basándose en características meramente estéticas, hacían de los requisitos de ingreso a las instituciones militares un caso concreto de discriminación por motivos inadmisibles en un contexto democrático respetuoso de la dignidad humana'\n",
    "        >>>tokenise(ejemplo)\n",
    "        >>> ['restablecido',\n",
    " 'pleno',\n",
    " 'derecho',\n",
    " 'padres',\n",
    " 'reconocer',\n",
    " 'hijos',\n",
    " 'derogando',\n",
    " 'impedimento',\n",
    " 'vigente',\n",
    " 'sacaron',\n",
    " 'exigencias',\n",
    " 'basandose',\n",
    " 'caracteristicas',\n",
    " 'meramente',\n",
    " 'esteticas',\n",
    " 'hacian',\n",
    " 'requisitos',\n",
    " 'ingreso',\n",
    " 'instituciones',\n",
    " 'militares',\n",
    " 'caso',\n",
    " 'concreto',\n",
    " 'discriminacion',\n",
    " 'motivos',\n",
    " 'inadmisibles',\n",
    " 'contexto',\n",
    " 'democratico',\n",
    " 'respetuoso',\n",
    " 'dignidad',\n",
    " 'humana']\"\"\"\n",
    " \n",
    "    limpia = []\n",
    "    clean_sentence = unidecode.unidecode(sentence) # eliminar acentos\n",
    "    for token_ in tk_tokenizer.tokenize(clean_sentence):\n",
    "        token = token_.lower()\n",
    "        if token in no_deseados:\n",
    "            continue\n",
    "        limpia.append(token)\n",
    "    return limpia"
   ]
  },
  {
   "cell_type": "markdown",
   "id": "963b6e54",
   "metadata": {},
   "source": [
    "## convertimos en numeros Vectorizacion"
   ]
  },
  {
   "cell_type": "markdown",
   "id": "365ced37",
   "metadata": {},
   "source": [
    "one-hot encoding"
   ]
  },
  {
   "cell_type": "code",
   "execution_count": 144,
   "id": "40d18d3e",
   "metadata": {},
   "outputs": [],
   "source": [
    "from sklearn.feature_extraction.text import CountVectorizer #submodulo dedicado completamente a texto"
   ]
  },
  {
   "cell_type": "code",
   "execution_count": 145,
   "id": "f698ef8e",
   "metadata": {},
   "outputs": [],
   "source": [
    "vectorizador_real = CountVectorizer(binary=True, analyzer=tokenise) #pasamos la funcion tokenise convierte nuestro texto a vector 1, 0"
   ]
  },
  {
   "cell_type": "code",
   "execution_count": 146,
   "id": "1aea2bd8",
   "metadata": {},
   "outputs": [
    {
     "data": {
      "text/plain": [
       "CountVectorizer(analyzer=<function tokenise at 0x7f859aceedc0>, binary=True)"
      ]
     },
     "execution_count": 146,
     "metadata": {},
     "output_type": "execute_result"
    }
   ],
   "source": [
    "vectorizador_real.fit(frase_train) #entrenando"
   ]
  },
  {
   "cell_type": "code",
   "execution_count": 147,
   "id": "614ce2b4",
   "metadata": {},
   "outputs": [],
   "source": [
    "#transformamos todos los vectores"
   ]
  },
  {
   "cell_type": "code",
   "execution_count": 148,
   "id": "1fc676b1",
   "metadata": {},
   "outputs": [],
   "source": [
    "train_x = vectorizador_real.transform(frase_train)\n",
    "val_x = vectorizador_real.transform(frase_val)\n",
    "test_x = vectorizador_real.transform(frase_test)"
   ]
  },
  {
   "cell_type": "markdown",
   "id": "dafdf825",
   "metadata": {},
   "source": [
    "## modelado"
   ]
  },
  {
   "cell_type": "markdown",
   "id": "e96dad49",
   "metadata": {},
   "source": [
    "modelo de regrecion logistica"
   ]
  },
  {
   "cell_type": "code",
   "execution_count": 174,
   "id": "8426dc33",
   "metadata": {},
   "outputs": [],
   "source": [
    "from sklearn.linear_model import LogisticRegression\n",
    "#crear objeto logisticRegresion\n",
    "\n",
    "lr = LogisticRegression()"
   ]
  },
  {
   "cell_type": "code",
   "execution_count": 175,
   "id": "eea4476a",
   "metadata": {},
   "outputs": [],
   "source": [
    "#le decimos a fit que entrene el modelo utilizando los datos de entrada ya pasados a numeros y utilizamos las etiquetas para evaluar"
   ]
  },
  {
   "cell_type": "code",
   "execution_count": 176,
   "id": "ec687dc1",
   "metadata": {},
   "outputs": [
    {
     "data": {
      "text/plain": [
       "((1260, 5191), (1260,))"
      ]
     },
     "execution_count": 176,
     "metadata": {},
     "output_type": "execute_result"
    }
   ],
   "source": [
    "train_x.shape, train_y.shape"
   ]
  },
  {
   "cell_type": "code",
   "execution_count": 177,
   "id": "38c9cdf7",
   "metadata": {},
   "outputs": [
    {
     "data": {
      "text/plain": [
       "LogisticRegression()"
      ]
     },
     "execution_count": 177,
     "metadata": {},
     "output_type": "execute_result"
    }
   ],
   "source": [
    "lr.fit(train_x, train_y)"
   ]
  },
  {
   "cell_type": "code",
   "execution_count": 178,
   "id": "93f4bef7",
   "metadata": {},
   "outputs": [],
   "source": [
    "train_pred = lr.predict(train_x) #diagnosticar overfitting"
   ]
  },
  {
   "cell_type": "code",
   "execution_count": 180,
   "id": "4c2638d9",
   "metadata": {},
   "outputs": [],
   "source": [
    "val_pred = lr.predict(val_x) #decidir cambios sobre el modelado"
   ]
  },
  {
   "cell_type": "code",
   "execution_count": 181,
   "id": "5d1a933d",
   "metadata": {},
   "outputs": [
    {
     "data": {
      "text/plain": [
       "array([1, 1, 1, ..., 1, 0, 1])"
      ]
     },
     "execution_count": 181,
     "metadata": {},
     "output_type": "execute_result"
    }
   ],
   "source": [
    "train_pred"
   ]
  },
  {
   "cell_type": "markdown",
   "id": "86870e74",
   "metadata": {},
   "source": [
    "# elegimos la metrica"
   ]
  },
  {
   "cell_type": "markdown",
   "id": "4224fcf0",
   "metadata": {},
   "source": [
    "Accuracy"
   ]
  },
  {
   "cell_type": "code",
   "execution_count": 183,
   "id": "435bc602",
   "metadata": {},
   "outputs": [],
   "source": [
    "from sklearn.metrics import accuracy_score, classification_report"
   ]
  },
  {
   "cell_type": "markdown",
   "id": "9ef160b6",
   "metadata": {},
   "source": [
    "verificamos que no alla overfitting o underfitting\n"
   ]
  },
  {
   "cell_type": "code",
   "execution_count": 189,
   "id": "989e42af",
   "metadata": {},
   "outputs": [
    {
     "data": {
      "text/plain": [
       "0.9857142857142858"
      ]
     },
     "execution_count": 189,
     "metadata": {},
     "output_type": "execute_result"
    }
   ],
   "source": [
    "accuracy_score(train_y, train_pred)"
   ]
  },
  {
   "cell_type": "markdown",
   "id": "44b24d2f",
   "metadata": {},
   "source": [
    "verificamos que no alla overfitting o underfitting"
   ]
  },
  {
   "cell_type": "code",
   "execution_count": 190,
   "id": "ad94e0a2",
   "metadata": {},
   "outputs": [
    {
     "data": {
      "text/plain": [
       "0.8386075949367089"
      ]
     },
     "execution_count": 190,
     "metadata": {},
     "output_type": "execute_result"
    }
   ],
   "source": [
    "accuracy_score(val_pred, val_y) #conjunto de validacion"
   ]
  },
  {
   "cell_type": "code",
   "execution_count": 191,
   "id": "0b0d5189",
   "metadata": {},
   "outputs": [],
   "source": [
    "test_pred = lr.predict(test_x)"
   ]
  },
  {
   "cell_type": "code",
   "execution_count": 192,
   "id": "8e8a9382",
   "metadata": {},
   "outputs": [],
   "source": [
    "test_accuracy = accuracy_score(test_y, test_pred)"
   ]
  },
  {
   "cell_type": "code",
   "execution_count": 197,
   "id": "bcaeb1d7",
   "metadata": {},
   "outputs": [
    {
     "name": "stdout",
     "output_type": "stream",
     "text": [
      "test accuracy= 84.26%\n"
     ]
    }
   ],
   "source": [
    "print(f\"test accuracy= {test_accuracy:0.2%}\")"
   ]
  },
  {
   "cell_type": "markdown",
   "id": "ab542a05",
   "metadata": {},
   "source": [
    "ejemplo"
   ]
  },
  {
   "cell_type": "code",
   "execution_count": 224,
   "id": "656b0e04",
   "metadata": {},
   "outputs": [],
   "source": [
    "oracion = \"Desconfío de los que no les gusta mirar el pasado, será porque no les gusta lo que hicieron en el pasado\""
   ]
  },
  {
   "cell_type": "code",
   "execution_count": 225,
   "id": "117f9840",
   "metadata": {},
   "outputs": [],
   "source": [
    "own_x = vectorizador_real.transform([oracion])"
   ]
  },
  {
   "cell_type": "code",
   "execution_count": 226,
   "id": "03c45f85",
   "metadata": {},
   "outputs": [],
   "source": [
    "result = lr.predict(own_x)"
   ]
  },
  {
   "cell_type": "code",
   "execution_count": 227,
   "id": "38f5d34e",
   "metadata": {},
   "outputs": [
    {
     "data": {
      "text/plain": [
       "array([0])"
      ]
     },
     "execution_count": 227,
     "metadata": {},
     "output_type": "execute_result"
    }
   ],
   "source": [
    "result"
   ]
  },
  {
   "cell_type": "code",
   "execution_count": 228,
   "id": "49c782d6",
   "metadata": {},
   "outputs": [],
   "source": [
    "Cristina, Nestor = lr.predict_proba(own_x).squeeze()*100"
   ]
  },
  {
   "cell_type": "code",
   "execution_count": 229,
   "id": "532599a3",
   "metadata": {},
   "outputs": [
    {
     "name": "stdout",
     "output_type": "stream",
     "text": [
      "Resultado de la prediccion: Cristina: 71.93943321689898 Nestor 28.06056678310103\n"
     ]
    }
   ],
   "source": [
    "print(\"Resultado de la prediccion: Cristina:\", Cristina , \"Nestor\",Nestor)"
   ]
  },
  {
   "cell_type": "code",
   "execution_count": 230,
   "id": "64ac6a33",
   "metadata": {},
   "outputs": [],
   "source": [
    "import matplotlib.pyplot as plt"
   ]
  },
  {
   "cell_type": "code",
   "execution_count": null,
   "id": "363ca1d9",
   "metadata": {},
   "outputs": [],
   "source": []
  }
 ],
 "metadata": {
  "kernelspec": {
   "display_name": "Python 3",
   "language": "python",
   "name": "python3"
  },
  "language_info": {
   "codemirror_mode": {
    "name": "ipython",
    "version": 3
   },
   "file_extension": ".py",
   "mimetype": "text/x-python",
   "name": "python",
   "nbconvert_exporter": "python",
   "pygments_lexer": "ipython3",
   "version": "3.8.10"
  }
 },
 "nbformat": 4,
 "nbformat_minor": 5
}
